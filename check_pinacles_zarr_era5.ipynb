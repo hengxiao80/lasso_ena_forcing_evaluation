{
 "cells": [
  {
   "cell_type": "code",
   "execution_count": null,
   "metadata": {},
   "outputs": [],
   "source": [
    "import xarray as xr\n",
    "import numpy as np\n",
    "import zarr\n",
    "from datetime import datetime\n",
    "import metpy\n",
    "from metpy.constants import water_heat_vaporization, dry_air_gas_constant, earth_gravity\n",
    "from scipy.interpolate import interpn, NearestNDInterpolator"
   ]
  },
  {
   "cell_type": "code",
   "execution_count": null,
   "metadata": {},
   "outputs": [],
   "source": [
    "from matplotlib import pyplot as plt"
   ]
  },
  {
   "cell_type": "code",
   "execution_count": null,
   "metadata": {},
   "outputs": [],
   "source": [
    "datestring = '2018-11-21'\n",
    "casedate = np.datetime64(datestring)\n",
    "datem1 = (casedate - np.timedelta64(1, \"D\")).astype(object).strftime(\"%Y%m%d\")\n",
    "date0 = casedate.astype(object).strftime(\"%Y%m%d\")\n",
    "datep1 = (casedate + np.timedelta64(1, \"D\")).astype(object).strftime(\"%Y%m%d\")"
   ]
  },
  {
   "cell_type": "code",
   "execution_count": null,
   "metadata": {},
   "outputs": [],
   "source": [
    "out = zarr.open(f'pinacles_zarr/era5_{datem1}-{datep1}.zarr', mode='r')"
   ]
  },
  {
   "cell_type": "code",
   "execution_count": null,
   "metadata": {},
   "outputs": [],
   "source": [
    "z = out['Height']\n",
    "p = out['P']\n",
    "t = out['T']\n",
    "qv = out['QV']\n",
    "time = out['time']"
   ]
  },
  {
   "cell_type": "code",
   "execution_count": null,
   "metadata": {},
   "outputs": [],
   "source": [
    "print(time[24])"
   ]
  },
  {
   "cell_type": "code",
   "execution_count": null,
   "metadata": {},
   "outputs": [],
   "source": [
    "fig = plt.figure(figsize=(6, 9))\n",
    "ax = fig.add_axes((0.1, 0.1, 0.8, 0.8))\n",
    "ax.plot(qv[24,:,:,:].mean(axis=(1,2)), z[24,:,:,:].mean(axis=(1,2))*1.0e-3, color='red')\n",
    "ax.plot(qv[36,:,:,:].mean(axis=(1,2)), z[36,:,:,:].mean(axis=(1,2))*1.0e-3, color='blue')\n",
    "ax.set_ylim(0, 6)\n",
    "plt.show()"
   ]
  },
  {
   "cell_type": "code",
   "execution_count": null,
   "metadata": {},
   "outputs": [],
   "source": [
    "z[24,:,:,:].mean(axis=(1,2))"
   ]
  },
  {
   "cell_type": "code",
   "execution_count": null,
   "metadata": {},
   "outputs": [],
   "source": [
    "p[24,:,:,:].mean(axis=(1,2))"
   ]
  },
  {
   "cell_type": "code",
   "execution_count": null,
   "metadata": {},
   "outputs": [],
   "source": [
    "t[24,:,:,:].mean(axis=(1,2))"
   ]
  },
  {
   "cell_type": "code",
   "execution_count": null,
   "metadata": {},
   "outputs": [],
   "source": [
    "qv[24,:,:,:].mean(axis=(1,2))"
   ]
  }
 ],
 "metadata": {
  "kernelspec": {
   "display_name": "my311",
   "language": "python",
   "name": "python3"
  },
  "language_info": {
   "codemirror_mode": {
    "name": "ipython",
    "version": 3
   },
   "file_extension": ".py",
   "mimetype": "text/x-python",
   "name": "python",
   "nbconvert_exporter": "python",
   "pygments_lexer": "ipython3",
   "version": "3.11.9"
  }
 },
 "nbformat": 4,
 "nbformat_minor": 2
}

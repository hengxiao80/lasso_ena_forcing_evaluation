{
 "cells": [
  {
   "cell_type": "raw",
   "metadata": {},
   "source": [
    "---\n",
    "execute:\n",
    "  echo: false\n",
    "  warning: false\n",
    "format:\n",
    "  revealjs:\n",
    "    embed-resources: true\n",
    "    mainfont: Latin Modern Roman\n",
    "    html-math-method: katex\n",
    "    css: katex_custom.css\n",
    "  pptx:\n",
    "    reference-doc: quarto_template_latin_modern.pptx\n",
    "---"
   ]
  },
  {
   "cell_type": "code",
   "execution_count": null,
   "metadata": {},
   "outputs": [],
   "source": [
    "# for plotting\n",
    "\n",
    "import matplotlib as mpl\n",
    "import matplotlib.pyplot as plt\n",
    "import seaborn as sns\n",
    "import colorcet as cc\n",
    "\n",
    "sns.set()\n",
    "sns.set_context('poster')\n",
    "sns.set_style('ticks')\n",
    "plt.rcParams['font.family'] = 'serif'\n",
    "plt.rcParams['font.serif'] = 'cmr10'\n",
    "plt.rcParams[\"mathtext.fontset\"] = 'cm'\n",
    "plt.rcParams[\"axes.formatter.use_mathtext\"] = True"
   ]
  },
  {
   "cell_type": "code",
   "execution_count": null,
   "metadata": {},
   "outputs": [],
   "source": [
    "import numpy as np\n",
    "import xarray as xr\n",
    "import metpy\n",
    "from metpy.units import units"
   ]
  },
  {
   "cell_type": "code",
   "execution_count": null,
   "metadata": {},
   "outputs": [],
   "source": [
    "from importlib import reload\n",
    "import extract_forcing"
   ]
  },
  {
   "cell_type": "code",
   "execution_count": null,
   "metadata": {},
   "outputs": [],
   "source": [
    "reload(extract_forcing)\n",
    "from extract_forcing import *"
   ]
  },
  {
   "cell_type": "code",
   "execution_count": null,
   "metadata": {},
   "outputs": [],
   "source": [
    "h = 30. # surface elevation of ENA site in m\n",
    "lat = 39.0916 # deg N\n",
    "lon = -28.0257 # deg E\n",
    "forc_dir = '/ccsopen/home/h1x/scratch/ena_forcing_check/forcing'\n",
    "sonde_dir = '/ccsopen/home/h1x/scratch/ena_forcing_check/obs/enasondewnpnC1'"
   ]
  },
  {
   "cell_type": "code",
   "execution_count": null,
   "metadata": {},
   "outputs": [],
   "source": [
    "# fcor = metpy.calc.coriolis_parameter(lat*units('degrees'))\n",
    "# print(f'{fcor.magnitude:12.5e}')"
   ]
  },
  {
   "cell_type": "code",
   "execution_count": null,
   "metadata": {},
   "outputs": [],
   "source": [
    "t1 = '2018-02-07T00:00:00'\n",
    "t2 = '2018-02-08T00:00:00'"
   ]
  },
  {
   "cell_type": "code",
   "execution_count": null,
   "metadata": {},
   "outputs": [],
   "source": [
    "dz = 25. # m\n",
    "zout = np.arange(dz*0.5, 5000.+ dz*0.6, dz)"
   ]
  },
  {
   "cell_type": "code",
   "execution_count": null,
   "metadata": {},
   "outputs": [],
   "source": [
    "dx = 0.75 # degrees"
   ]
  },
  {
   "cell_type": "code",
   "execution_count": null,
   "metadata": {},
   "outputs": [],
   "source": [
    "z_snd, tp_snd, rv_snd, u_snd, v_snd = extract_sounding_sonde(f'{sonde_dir}/enasondewnpnC1.b1.20180207.053000.cdf')"
   ]
  },
  {
   "cell_type": "code",
   "execution_count": null,
   "metadata": {},
   "outputs": [],
   "source": [
    "era5_sfc = xr.open_dataset(f'{forc_dir}/era5/data/2018/ERA5-20180206-20180208-sfc.nc')\n",
    "era5_l = xr.open_dataset(f'{forc_dir}/era5/data/2018/ERA5-20180206-20180208-ml.nc')\n",
    "era5_sfc = era5_sfc.sortby(era5_sfc.time)\n",
    "toy_era5_sfc, sst_era5, shf_era5, lhf_era5, _ = extract_sfc_fluxes_era5(era5_sfc, t1, t2, lat, lon, dx)\n",
    "toy_era5, zs, ps, z, p, w, omega, u, v, ta, ma, ug, vg = extract_forcing_era5(era5_l, t1, t2, lat, lon, dx)\n",
    "w_era5, u_era5, v_era5, ta_era5, ma_era5, ug_era5, vg_era5 = interpolate_forcing_era5(zout, z, w, u, v, ta, ma, ug, vg, zs)\n",
    "ps_era5 = ps.mean(axis=(1,2))\n",
    "# del zs, ps, z, p, w, omega, u, v, ta, ma, ug, vg\n",
    "del era5_l, era5_sfc"
   ]
  },
  {
   "cell_type": "code",
   "execution_count": null,
   "metadata": {},
   "outputs": [],
   "source": [
    "\"\"\"\n",
    "The formats of input files for SAM\n",
    "- snd\n",
    " z[m] p[mb] tp[K] q[g/kg] u[m/s] v[m/s]\n",
    " 0.,  6, 1015.  day,levels,pres0\n",
    "0.\t-999.   298.70\t17.00\t-8.75\t0.0\n",
    "- lsf\n",
    " z[m] p[mb]  tls[K/s] qls[kg/kg/s] uls  vls  wls[m/s]\n",
    " 0.,  6   1015. day, nlevels, pres0\n",
    " 0.\t-999. -2.315e-05  -1.2e-08\t-10.00\t0.\t0.\n",
    "- sfc\n",
    " day sst(K) H(W/m2) LE(W/m2) TAU(m2/s2)\n",
    " 0.\t301.   9.46   153.4\t0.0784\n",
    "\"\"\"\n",
    "t_start = 37.25\n",
    "t_end = 37.875\n",
    "ztop = 5500.0\n",
    "\n",
    "nt_start = np.nonzero(toy_era5 == t_start)[0][0]\n",
    "nt_end = np.nonzero(toy_era5 == t_end)[0][0]\n",
    "lim = z_snd < 5500.0\n",
    "z_snd_out = np.compress(lim, z_snd)\n",
    "tp_snd_out = np.compress(lim, tp_snd)\n",
    "rv_snd_out = np.compress(lim, rv_snd)\n",
    "rv_snd_out = rv_snd_out * 1.0e3  # convert to g/kg\n",
    "u_snd_out = np.compress(lim, u_snd)\n",
    "v_snd_out = np.compress(lim, v_snd)\n",
    "nz = z_snd_out.shape[0]\n",
    "with open(\"snd_era5ps\", \"w\") as snd:\n",
    "    snd.write(\"z[m] p[mb] tp[K] q[g/kg] u[m/s] v[m/s]\\n\")\n",
    "    snd.write(\n",
    "        f\"{t_start},  {nz},  {ps_era5.values[nt_start]/100.0:8.3f}  day,levels,pres0\\n\"\n",
    "    )\n",
    "    for z, t, r, u, v in zip(\n",
    "        z_snd_out, tp_snd_out.magnitude, rv_snd_out.magnitude, u_snd_out, v_snd_out\n",
    "    ):\n",
    "        snd.write(f\"{z - h:8.2f}  -999.9  {t:8.4f}  {r:8.4f}  {u:9.4f}  {v:9.4f} \\n\")\n",
    "    snd.write(\n",
    "        f\"{t_end},  {nz},  {ps_era5.values[nt_start]/100.0:8.3f}  day,levels,pres0\\n\"\n",
    "    )\n",
    "    for z, t, r, u, v in zip(\n",
    "        z_snd_out, tp_snd_out.magnitude, rv_snd_out.magnitude, u_snd_out, v_snd_out\n",
    "    ):\n",
    "        snd.write(f\"{z - h:8.2f}  -999.9  {t:8.4f}  {r:8.4f}  {u:9.4f}  {v:9.4f} \\n\")\n",
    "\n",
    "nt_start = np.nonzero(toy_era5_sfc == t_start)[0][0]\n",
    "nt_end = np.nonzero(toy_era5_sfc == t_end)[0][0]\n",
    "with open(\"sfc_era5\", \"w\") as sfc:\n",
    "    sfc.write(\"day sst(K) H(W/m2) LE(W/m2) TAU(m2/s2) \\n\")\n",
    "    for nt in range(nt_start, nt_end + 1):\n",
    "        sfc.write(\n",
    "            f\"{toy_era5_sfc[nt]:13.9f}  {sst_era5[nt]:8.4f}  {-shf_era5[nt]:9.4f}  {-lhf_era5.values[nt]:9.4f}  -999.9 \\n\"\n",
    "        )\n",
    "\n",
    "nt_start = np.nonzero(toy_era5 == t_start)[0][0]\n",
    "nt_end = np.nonzero(toy_era5 == t_end)[0][0]\n",
    "nz = zout.shape[0]\n",
    "with open(\"lsf_era5\", \"w\") as lsf:\n",
    "    lsf.write(\" z[m] p[mb]  tls[K/s] qls[kg/kg/s] uls  vls  wls[m/s] \\n\")\n",
    "    for nt in range(nt_start, nt_end + 1):\n",
    "        lsf.write(\n",
    "            f\"{toy_era5[nt]:13.9f},  {nz},  {ps_era5.values[nt]/100.0:8.3f}  day,levels,pres0 \\n\"\n",
    "        )\n",
    "        for zl in range(nz):\n",
    "            lsf.write(\n",
    "                f\"{zout[zl]:9.2f}  -999.9  {ta_era5[nt, zl]:12.4e}  {ma_era5[nt, zl]:12.4e}  {ug_era5[nt, zl]:9.4f}  {vg_era5[nt, zl]:9.4f}  {w_era5[nt, zl]:12.4e} \\n\"\n",
    "            )"
   ]
  },
  {
   "cell_type": "code",
   "execution_count": null,
   "metadata": {},
   "outputs": [],
   "source": [
    "merra2_l = xr.open_dataset(f'{forc_dir}/merra2/data/MERRA2_400.inst3_3d_asm_Nv.20180207.nc4')\n",
    "merra2_sfc = xr.open_dataset(f'{forc_dir}/merra2/data/MERRA2_400.tavg1_2d_flx_Nx.20180207.nc4')\n",
    "merra2_sfc2 = xr.open_dataset(f'{forc_dir}/merra2/data/MERRA2_400.tavg1_2d_slv_Nx.20180207.nc4')\n",
    "# merra2_sfc0 = xr.open_dataset(f'{forc_dir}/merra2/data/MERRA2_101.const_2d_asm_Nx.00000000.nc4')\n",
    "toy_merra2_sfc, sst_merra2, shf_merra2, lhf_merra2 = extract_sfc_fluxes_merra2(merra2_sfc, merra2_sfc2, t1, t2, lat, lon, dx)\n",
    "toy_merra2, zs, ps, z, p, w, omega, u, v, ta, ma, ug, vg = extract_forcing_merra2(merra2_l, t1, t2, lat, lon, dx)\n",
    "w_merra2, u_merra2, v_merra2, ta_merra2, ma_merra2, ug_merra2, vg_merra2 = interpolate_forcing_merra2(zout, z, w, u, v, ta, ma, ug, vg, zs)\n",
    "ps_merra2 = ps.mean(axis=(1,2))\n",
    "del zs, ps, z, p, w, omega, u, v, ta, ma, ug, vg\n",
    "del merra2_l, merra2_sfc, merra2_sfc2"
   ]
  },
  {
   "cell_type": "code",
   "execution_count": null,
   "metadata": {},
   "outputs": [],
   "source": [
    "\"\"\"\n",
    "The formats of input files for SAM\n",
    "- snd\n",
    " z[m] p[mb] tp[K] q[g/kg] u[m/s] v[m/s]\n",
    " 0.,  6, 1015.  day,levels,pres0\n",
    "0.\t-999.   298.70\t17.00\t-8.75\t0.0\n",
    "- lsf\n",
    " z[m] p[mb]  tls[K/s] qls[kg/kg/s] uls  vls  wls[m/s]\n",
    " 0.,  6   1015. day, nlevels, pres0\n",
    " 0.\t-999. -2.315e-05  -1.2e-08\t-10.00\t0.\t0.\n",
    "- sfc\n",
    " day sst(K) H(W/m2) LE(W/m2) TAU(m2/s2)\n",
    " 0.\t301.   9.46   153.4\t0.0784\n",
    "\"\"\"\n",
    "t_start = 37.25\n",
    "t_end = 37.875\n",
    "ztop = 5500.0\n",
    "\n",
    "nt_start = np.nonzero(toy_merra2 == t_start)[0][0]\n",
    "nt_end = np.nonzero(toy_merra2 == t_end)[0][0]\n",
    "print(toy_merra2[nt_start])\n",
    "print(toy_merra2[nt_end])\n",
    "lim = z_snd < 5500.0\n",
    "z_snd_out = np.compress(lim, z_snd)\n",
    "tp_snd_out = np.compress(lim, tp_snd)\n",
    "rv_snd_out = np.compress(lim, rv_snd)\n",
    "rv_snd_out = rv_snd_out * 1.0e3  # convert to g/kg\n",
    "u_snd_out = np.compress(lim, u_snd)\n",
    "v_snd_out = np.compress(lim, v_snd)\n",
    "nz = z_snd_out.shape[0]\n",
    "with open(\"snd_merra2ps\", \"w\") as snd:\n",
    "    snd.write(\"z[m] p[mb] tp[K] q[g/kg] u[m/s] v[m/s]\\n\")\n",
    "    snd.write(\n",
    "        f\"{t_start},  {nz},  {ps_merra2.values[nt_start]/100.0:8.3f}  day,levels,pres0\\n\"\n",
    "    )\n",
    "    for z, t, r, u, v in zip(\n",
    "        z_snd_out, tp_snd_out.magnitude, rv_snd_out.magnitude, u_snd_out, v_snd_out\n",
    "    ):\n",
    "        snd.write(f\"{z - h:8.2f}  -999.9  {t:8.4f}  {r:8.4f}  {u:9.4f}  {v:9.4f} \\n\")\n",
    "    snd.write(\n",
    "        f\"{t_end},  {nz},  {ps_merra2.values[nt_start]/100.0:8.3f}  day,levels,pres0\\n\"\n",
    "    )\n",
    "    for z, t, r, u, v in zip(\n",
    "        z_snd_out, tp_snd_out.magnitude, rv_snd_out.magnitude, u_snd_out, v_snd_out\n",
    "    ):\n",
    "        snd.write(f\"{z - h:8.2f}  -999.9  {t:8.4f}  {r:8.4f}  {u:9.4f}  {v:9.4f} \\n\")\n",
    "\n",
    "nt_start = np.nonzero(toy_merra2_sfc >= t_start)[0][0] - 1\n",
    "nt_end = np.nonzero(toy_merra2_sfc <= t_end)[0][-1] + 1\n",
    "print(toy_merra2_sfc[nt_start])\n",
    "print(toy_merra2_sfc[nt_end])\n",
    "with open(\"sfc_merra2\", \"w\") as sfc:\n",
    "    sfc.write(\"day sst(K) H(W/m2) LE(W/m2) TAU(m2/s2) \\n\")\n",
    "    for nt in range(nt_start, nt_end + 1):\n",
    "        sfc.write(\n",
    "            f\"{toy_merra2_sfc[nt]:13.9f}  {sst_merra2[nt]:8.4f}  {shf_merra2[nt]:9.4f}  {lhf_merra2.values[nt]:9.4f}  -999.9 \\n\"\n",
    "        )\n",
    "\n",
    "nt_start = np.nonzero(toy_merra2 == t_start)[0][0]\n",
    "nt_end = np.nonzero(toy_merra2 == t_end)[0][0]\n",
    "print(toy_merra2[nt_start])\n",
    "print(toy_merra2[nt_end])\n",
    "nz = zout.shape[0]\n",
    "with open(\"lsf_merra2\", \"w\") as lsf:\n",
    "    lsf.write(\" z[m] p[mb]  tls[K/s] qls[kg/kg/s] uls  vls  wls[m/s] \\n\")\n",
    "    for nt in range(nt_start, nt_end + 1):\n",
    "        lsf.write(\n",
    "            f\"{toy_merra2[nt]:13.9f},  {nz},  {ps_merra2.values[nt]/100.0:8.3f}  day,levels,pres0 \\n\"\n",
    "        )\n",
    "        for zl in range(nz):\n",
    "            lsf.write(\n",
    "                f\"{zout[zl]:9.2f}  -999.9  {ta_merra2[nt, zl]:12.4e}  {ma_merra2[nt, zl]:12.4e}  {ug_merra2[nt, zl]:9.4f}  {vg_merra2[nt, zl]:9.4f}  {w_merra2[nt, zl]:12.4e} \\n\"\n",
    "            )"
   ]
  },
  {
   "cell_type": "code",
   "execution_count": null,
   "metadata": {},
   "outputs": [],
   "source": [
    "tstamp = '2008-02-07T06:00:00'\n",
    "toy = 37.25\n",
    "fig = plt.figure(figsize=(12, 9))\n",
    "ax1 = fig.add_axes((0.05, 0.1, 0.4, 0.8))\n",
    "ax2 = fig.add_axes((0.5, 0.1, 0.4, 0.8))\n",
    "lim = z_snd < 5500.\n",
    "zlim = np.compress(lim, z_snd)\n",
    "u_snd_out = np.compress(lim, u_snd)\n",
    "v_snd_out = np.compress(lim, v_snd)\n",
    "nt = np.nonzero(toy_merra2==toy)[0][0]\n",
    "# print(toy_merra2[nt])\n",
    "ax1.plot(u_snd_out, zlim*1.0e-3, color='red', label='u - SONDE')\n",
    "ax2.plot(v_snd_out, zlim*1.0e-3, color='red', label='v - SONDE')\n",
    "ax1.plot(u_merra2[nt,:], zout*1.0e-3, color='black', label='u - MERRA2')\n",
    "ax1.plot(ug_merra2[nt,:], zout*1.0e-3, color='black', label='ug - MERRA2', linestyle='--')\n",
    "ax2.plot(v_merra2[nt,:], zout*1.0e-3, color='black', label='v - MERRA2')\n",
    "ax2.plot(vg_merra2[nt,:], zout*1.0e-3, color='black', label='vg - MERRA2', linestyle='--')\n",
    "nt = np.nonzero(toy_era5==toy)[0][0]\n",
    "# print(toy_era5[nt])\n",
    "ax1.plot(u_era5[nt,:], zout*1.0e-3, color='blue', label='u - ERA5')\n",
    "ax1.plot(ug_era5[nt,:], zout*1.0e-3, color='blue', label='ug - ERA5', linestyle='--')\n",
    "ax2.plot(v_era5[nt,:], zout*1.0e-3, color='blue', label='v - ERA5')\n",
    "ax2.plot(vg_era5[nt,:], zout*1.0e-3, color='blue', label='vg - ERA5', linestyle='--')\n",
    "ax1.set_ylim(0, 5)\n",
    "# ax1.set_xlim(-10, 0)\n",
    "ax1.set_ylabel('Altitude (km)')\n",
    "ax1.set_xlabel(r' $u$ (m/s)')\n",
    "ax1.set_title(tstamp)\n",
    "ax1.legend(fontsize=12)\n",
    "ax2.set_ylim(0, 5)\n",
    "ax2.set_ylabel('')\n",
    "ax2.set_xlabel(r' $v$ (m/s)')\n",
    "ax2.legend(fontsize=12)\n",
    "ax2.set_title(tstamp)\n",
    "plt.show()"
   ]
  }
 ],
 "metadata": {
  "kernelspec": {
   "display_name": "base",
   "language": "python",
   "name": "python3"
  },
  "language_info": {
   "codemirror_mode": {
    "name": "ipython",
    "version": 3
   },
   "file_extension": ".py",
   "mimetype": "text/x-python",
   "name": "python",
   "nbconvert_exporter": "python",
   "pygments_lexer": "ipython3",
   "version": "3.8.16"
  },
  "vscode": {
   "interpreter": {
    "hash": "f221a11a495a978dd5d4b7a823919aa0330af40be8dfacc59b441db5f6460b82"
   }
  }
 },
 "nbformat": 4,
 "nbformat_minor": 2
}

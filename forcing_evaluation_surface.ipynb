{
 "cells": [
  {
   "cell_type": "raw",
   "metadata": {},
   "source": [
    "---\n",
    "execute:\n",
    "  echo: false\n",
    "  warning: false\n",
    "format:\n",
    "  revealjs:\n",
    "    embed-resources: true\n",
    "    mainfont: Latin Modern Roman\n",
    "    html-math-method: katex\n",
    "    css: katex_custom.css\n",
    "  pptx:\n",
    "    reference-doc: quarto_template_latin_modern.pptx\n",
    "---"
   ]
  },
  {
   "cell_type": "code",
   "execution_count": null,
   "metadata": {},
   "outputs": [],
   "source": [
    "# for plotting\n",
    "\n",
    "import matplotlib as mpl\n",
    "import matplotlib.pyplot as plt\n",
    "import seaborn as sns\n",
    "import colorcet as cc\n",
    "\n",
    "sns.set()\n",
    "sns.set_context('poster')\n",
    "sns.set_style('ticks')\n",
    "plt.rcParams['font.family'] = 'serif'\n",
    "plt.rcParams['font.serif'] = 'cmr10'\n",
    "plt.rcParams[\"mathtext.fontset\"] = 'cm'\n",
    "plt.rcParams[\"axes.formatter.use_mathtext\"] = True"
   ]
  },
  {
   "cell_type": "code",
   "execution_count": null,
   "metadata": {},
   "outputs": [],
   "source": [
    "import numpy as np\n",
    "import xarray as xr\n",
    "import metpy\n",
    "from metpy.units import units"
   ]
  },
  {
   "attachments": {},
   "cell_type": "markdown",
   "metadata": {},
   "source": [
    "- We looked at possible island effect at ENA following mainly the approach of Ghate et al. (2021, JAMC).\n",
    "- The surface fluxes used in VarAnal are from buoy data, and possibly calculated using buoy near-surface measurements and bulk formulas."
   ]
  },
  {
   "cell_type": "markdown",
   "metadata": {},
   "source": [
    "---"
   ]
  },
  {
   "cell_type": "code",
   "execution_count": null,
   "metadata": {},
   "outputs": [],
   "source": [
    "h = 30. # surface elevation of ENA site in m\n",
    "lat = 39.0916 # deg N\n",
    "lon = -28.0257 # deg E"
   ]
  },
  {
   "cell_type": "code",
   "execution_count": null,
   "metadata": {},
   "outputs": [],
   "source": [
    "obs_dir = '/ccsopen/home/h1x/scratch/ena_forcing_check/obs'\n",
    "forc_dir = '/ccsopen/home/h1x/scratch/ena_forcing_check/forcing'"
   ]
  },
  {
   "cell_type": "code",
   "execution_count": null,
   "metadata": {},
   "outputs": [],
   "source": [
    "varanal = xr.open_dataset(f'{obs_dir}/ena180varanaecmwfC1.c1.20170601.000000.cdf')\n",
    "va = varanal.assign_coords(time=varanal.time_offset)"
   ]
  },
  {
   "cell_type": "code",
   "execution_count": null,
   "metadata": {},
   "outputs": [],
   "source": [
    "armbe = xr.open_dataset(f'{obs_dir}/enaarmbeatmC1.c1.20180101.003000.nc')\n",
    "armbecld = xr.open_dataset(f'{obs_dir}/enaarmbecldradC1.c1.20180101.003000.nc')"
   ]
  },
  {
   "cell_type": "code",
   "execution_count": null,
   "metadata": {},
   "outputs": [],
   "source": [
    "time_era5 = np.arange(0, 24.1, 1.)\n",
    "era5_sfc = xr.open_dataset(f'{forc_dir}/era5/data/2018/ERA5-20180206-20180208-sfc.nc')\n",
    "era5_sfc_ena = era5_sfc.sel(longitude=lon, latitude=lat, method='nearest')\n",
    "era5_sfc_ena = era5_sfc_ena.sortby(era5_sfc_ena.time)"
   ]
  },
  {
   "cell_type": "code",
   "execution_count": null,
   "metadata": {},
   "outputs": [],
   "source": [
    "time_fnl = np.arange(0, 21.1, 3.)\n",
    "fnl_sfc = xr.open_dataset(f'{forc_dir}/fnl0.25deg/data/2018/kwbc_20180207_fc_surface.nc')\n",
    "fnl_sfc2 = xr.open_dataset(f'{forc_dir}/fnl0.25deg/data/2018/kwbc_20180207_fc_heightAboveGround.nc')\n",
    "fnl_sfc_ena = fnl_sfc.sel(longitude=lon+360., latitude=lat, method='nearest')\n",
    "fnl_sfc2_ena = fnl_sfc2.sel(longitude=lon+360., latitude=lat, method='nearest')"
   ]
  },
  {
   "cell_type": "code",
   "execution_count": null,
   "metadata": {},
   "outputs": [],
   "source": [
    "time_merra2 = np.arange(0.5, 23.7, 1.0)\n",
    "merra2_sfc = xr.open_dataset(f'{forc_dir}/merra2/data/MERRA2_400.tavg1_2d_flx_Nx.20180207.nc4')\n",
    "merra2_sfc2 = xr.open_dataset(f'{forc_dir}/merra2/data/MERRA2_400.tavg1_2d_slv_Nx.20180207.nc4')\n",
    "merra2_sfc_ena = merra2_sfc.sel(lon=lon, lat=lat, method='nearest')\n",
    "merra2_sfc2_ena = merra2_sfc2.sel(lon=lon, lat=lat, method='nearest')"
   ]
  },
  {
   "cell_type": "code",
   "execution_count": null,
   "metadata": {},
   "outputs": [],
   "source": [
    "time = np.arange(0.5, 24.5, 1.)\n",
    "time_va = np.arange(0, 24.1, 3.)\n",
    "u10m = armbe.u_wind_sfc.loc['2018-02-07T00:30:00':'2018-02-07T23:30:00']\n",
    "v10m = armbe.v_wind_sfc.loc['2018-02-07T00:30:00':'2018-02-07T23:30:00']\n",
    "wdir = metpy.calc.wind_direction(u10m, v10m)\n",
    "u10m = era5_sfc_ena.u10.loc['2018-02-07T00:00:00':'2018-02-08T00:00:00']\n",
    "v10m = era5_sfc_ena.v10.loc['2018-02-07T00:00:00':'2018-02-08T00:00:00']\n",
    "wdir_era5 = metpy.calc.wind_direction(u10m, v10m)\n",
    "u10m = fnl_sfc2_ena.u10\n",
    "v10m = fnl_sfc2_ena.v10\n",
    "wdir_fnl = metpy.calc.wind_direction(u10m, v10m)\n",
    "u10m = merra2_sfc2_ena.U10M\n",
    "v10m = merra2_sfc2_ena.V10M\n",
    "wdir_merra2 = metpy.calc.wind_direction(u10m, v10m)\n",
    "u10m = va.u_srf.loc['2018-02-07T00:00:00':'2018-02-08T00:00:00']\n",
    "v10m = va.v_srf.loc['2018-02-07T00:00:00':'2018-02-08T00:00:00']\n",
    "wdir_va = metpy.calc.wind_direction(u10m, v10m)\n",
    "fig = plt.figure(figsize=(9, 6))\n",
    "ax = fig.add_axes((0.1, 0.1, 0.8, 0.8))\n",
    "ax.plot(time, wdir, color='black', label='ARM MET')\n",
    "ax.plot(time_era5, wdir_era5, color='black', linestyle='none', marker='+', label='ERA5')\n",
    "ax.plot(time_fnl, wdir_fnl, color='black', linestyle='none', marker='*', markersize=10, label='FNL')\n",
    "ax.plot(time_merra2, wdir_merra2, color='black', linestyle='none', marker='o', markersize=5, label='MERRA2')\n",
    "ax.plot(time_va, wdir_va, color='black', linestyle='none', marker='^', markersize=10, label='VarAnal')\n",
    "plt.xlabel('Time (UTC)')\n",
    "plt.xlim(0, 24)\n",
    "plt.xticks((0, 6, 12, 18))\n",
    "plt.yticks((0, 90, 180, 270))\n",
    "plt.ylim(0, 360)\n",
    "plt.axhspan(90, 310, color='lightgray', alpha=0.2)\n",
    "plt.ylabel('Surface Wind Direction')\n",
    "plt.title('2018-02-07')\n",
    "plt.legend()\n",
    "plt.show()"
   ]
  },
  {
   "cell_type": "markdown",
   "metadata": {},
   "source": [
    "---"
   ]
  },
  {
   "cell_type": "code",
   "execution_count": null,
   "metadata": {},
   "outputs": [],
   "source": [
    "era5_shf = era5_sfc_ena.ishf.loc['2018-02-07T00:00:00':'2018-02-08T00:00:00']\n",
    "era5_lhf = (metpy.constants.water_heat_vaporization*era5_sfc_ena.ie.metpy.quantify()).loc['2018-02-07T00:00:00':'2018-02-08T00:00:00']\n",
    "fnl_shf = fnl_sfc_ena.shtfl\n",
    "fnl_lhf = fnl_sfc_ena.lhtfl\n",
    "merra2_shf = merra2_sfc_ena.HFLUX\n",
    "merra2_lhf = merra2_sfc_ena.EFLUX\n",
    "va_shf = va.SH.loc['2018-02-07T00:00:00':'2018-02-08T00:00:00']\n",
    "va_lhf = va.LH.loc['2018-02-07T00:00:00':'2018-02-08T00:00:00']\n",
    "fig = plt.figure(figsize=(9, 6))\n",
    "ax = fig.add_axes((0.1, 0.1, 0.8, 0.8))\n",
    "ax.plot(time, armbe.sensible_heat_flux_qcecor.loc['2018-02-07T00:30:00':'2018-02-07T23:30:00'], color='red', label='ECOR, sensible')\n",
    "ax.plot(time, armbe.latent_heat_flux_qcecor.loc['2018-02-07T00:30:00':'2018-02-07T23:30:00'], color='blue', label='ECOR, latent')\n",
    "ax.plot(time_era5, -era5_shf, color='red', linestyle='none', marker='+', label='ERA5, sensible')\n",
    "ax.plot(time_era5, -era5_lhf, color='blue', linestyle='none', marker='+', label='ERA5, latent')\n",
    "ax.plot(time_fnl, fnl_shf, color='red', linestyle='none', marker='*', label='FNL, sensible')\n",
    "ax.plot(time_fnl, fnl_lhf, color='blue', linestyle='none', marker='*', label='FNL, latent')\n",
    "ax.plot(time_merra2, merra2_shf, color='red', linestyle='none', marker='o', markersize=5, label='MERRA2, sensible')\n",
    "ax.plot(time_merra2, merra2_lhf, color='blue', linestyle='none', marker='o', markersize=5, label='MERRA2, latent')\n",
    "ax.plot(time_va, va_shf, color='red', linestyle='none', marker='^', markersize=10, label='VarAnal, sensible')\n",
    "ax.plot(time_va, va_lhf, color='blue', linestyle='none', marker='^', markersize=10, label='VarAnal, latent')\n",
    "plt.xlabel('Time (UTC)')\n",
    "plt.xlim(0, 24)\n",
    "plt.xticks((0, 6, 12, 18))\n",
    "plt.ylabel(r'Surface Fluxes (${\\rm W/m^2}$)')\n",
    "# plt.ylim(-200, 100)\n",
    "plt.title('2018-02-07')\n",
    "plt.legend(fontsize=10)\n",
    "plt.show()"
   ]
  },
  {
   "cell_type": "markdown",
   "metadata": {},
   "source": [
    "---"
   ]
  },
  {
   "cell_type": "code",
   "execution_count": null,
   "metadata": {},
   "outputs": [],
   "source": [
    "era5_sfc = xr.open_dataset(f'{forc_dir}/era5/data/2018/ERA5-20180215-20180217-sfc.nc')\n",
    "era5_l = xr.open_dataset(f'{forc_dir}/era5/data/2018/ERA5-20180215-20180217-ml.nc')\n",
    "era5_sfc_ena = era5_sfc.sel(longitude=lon, latitude=lat, method='nearest')\n",
    "era5_l_ena = era5_l.sel(longitude=lon, latitude=lat, method='nearest')\n",
    "era5_sfc_ena = era5_sfc_ena.sortby(era5_sfc_ena.time)"
   ]
  },
  {
   "cell_type": "code",
   "execution_count": null,
   "metadata": {},
   "outputs": [],
   "source": [
    "time_fnl = np.arange(0, 21.1, 3.)\n",
    "fnl_sfc = xr.open_dataset(f'{forc_dir}/fnl0.25deg/data/2018/kwbc_20180216_fc_surface.nc')\n",
    "fnl_sfc2 = xr.open_dataset(f'{forc_dir}/fnl0.25deg/data/2018/kwbc_20180216_fc_heightAboveGround.nc')\n",
    "fnl_l = xr.open_dataset(f'{forc_dir}/fnl0.25deg/data/2018/kwbc_20180216_fc_isobaricInhPa.nc')\n",
    "fnl_sfc_ena = fnl_sfc.sel(longitude=lon+360., latitude=lat, method='nearest')\n",
    "fnl_sfc2_ena = fnl_sfc2.sel(longitude=lon+360., latitude=lat, method='nearest')\n",
    "fnl_l_ena = fnl_l.sel(longitude=lon+360., latitude=lat, method='nearest')"
   ]
  },
  {
   "cell_type": "code",
   "execution_count": null,
   "metadata": {},
   "outputs": [],
   "source": [
    "time_merra2 = np.arange(0.5, 23.7, 1.0)\n",
    "merra2_l = xr.open_dataset(f'{forc_dir}/merra2/data/MERRA2_400.inst6_3d_ana_Nv.20180216.nc4')\n",
    "merra2_sfc = xr.open_dataset(f'{forc_dir}/merra2/data/MERRA2_400.tavg1_2d_flx_Nx.20180216.nc4')\n",
    "merra2_sfc2 = xr.open_dataset(f'{forc_dir}/merra2/data/MERRA2_400.tavg1_2d_slv_Nx.20180216.nc4')\n",
    "merra2_l_ena = merra2_l.sel(lon=lon, lat=lat, method='nearest')\n",
    "merra2_sfc_ena = merra2_sfc.sel(lon=lon, lat=lat, method='nearest')\n",
    "merra2_sfc2_ena = merra2_sfc2.sel(lon=lon, lat=lat, method='nearest')"
   ]
  },
  {
   "cell_type": "code",
   "execution_count": null,
   "metadata": {},
   "outputs": [],
   "source": [
    "u10m = armbe.u_wind_sfc.loc['2018-02-16T00:30:00':'2018-02-16T23:30:00']\n",
    "v10m = armbe.v_wind_sfc.loc['2018-02-16T00:30:00':'2018-02-16T23:30:00']\n",
    "time = np.arange(0.5, 24.5, 1.)\n",
    "wdir = metpy.calc.wind_direction(u10m, v10m)\n",
    "u10m = era5_sfc_ena.u10.loc['2018-02-16T00:00:00':'2018-02-17T00:00:00']\n",
    "v10m = era5_sfc_ena.v10.loc['2018-02-16T00:00:00':'2018-02-17T00:00:00']\n",
    "wdir_era5 = metpy.calc.wind_direction(u10m, v10m)\n",
    "u10m = fnl_sfc2_ena.u10\n",
    "v10m = fnl_sfc2_ena.v10\n",
    "wdir_fnl = metpy.calc.wind_direction(u10m, v10m)\n",
    "u10m = merra2_sfc2_ena.U10M\n",
    "v10m = merra2_sfc2_ena.V10M\n",
    "wdir_merra2 = metpy.calc.wind_direction(u10m, v10m)\n",
    "u10m = va.u_srf.loc['2018-02-16T00:00:00':'2018-02-17T00:00:00']\n",
    "v10m = va.v_srf.loc['2018-02-16T00:00:00':'2018-02-17T00:00:00']\n",
    "wdir_va = metpy.calc.wind_direction(u10m, v10m)\n",
    "fig = plt.figure(figsize=(9, 6))\n",
    "ax = fig.add_axes((0.1, 0.1, 0.8, 0.8))\n",
    "ax.plot(time, wdir, color='black', label='ARM MET')\n",
    "ax.plot(time_era5, wdir_era5, color='black', linestyle='none', marker='+', label='ERA5')\n",
    "ax.plot(time_fnl, wdir_fnl, color='black', linestyle='none', marker='*', label='FNL')\n",
    "ax.plot(time_merra2, wdir_merra2, color='black', linestyle='none', marker='o', markersize=5, label='MERRA2')\n",
    "ax.plot(time_va, wdir_va, color='black', linestyle='none', marker='^', markersize=10, label='VarAnal')\n",
    "plt.xlabel('Time (UTC)')\n",
    "plt.xlim(0, 24)\n",
    "plt.xticks((0, 6, 12, 18))\n",
    "plt.yticks((0, 90, 180, 270))\n",
    "plt.ylim(0, 360)\n",
    "plt.axhspan(90, 310, color='lightgray', alpha=0.2)\n",
    "plt.ylabel('Surface Wind Direction')\n",
    "plt.title('2018-02-16')\n",
    "plt.legend()\n",
    "plt.show()"
   ]
  },
  {
   "cell_type": "markdown",
   "metadata": {},
   "source": [
    "---"
   ]
  },
  {
   "cell_type": "code",
   "execution_count": null,
   "metadata": {},
   "outputs": [],
   "source": [
    "era5_shf = era5_sfc_ena.ishf.loc['2018-02-16T00:00:00':'2018-02-17T00:00:00']\n",
    "era5_lhf = (metpy.constants.water_heat_vaporization*era5_sfc_ena.ie.metpy.quantify()).loc['2018-02-16T00:00:00':'2018-02-17T00:00:00']\n",
    "fnl_shf = fnl_sfc_ena.shtfl\n",
    "fnl_lhf = fnl_sfc_ena.lhtfl\n",
    "merra2_shf = merra2_sfc_ena.HFLUX\n",
    "merra2_lhf = merra2_sfc_ena.EFLUX\n",
    "va_shf = va.SH.loc['2018-02-07T00:00:00':'2018-02-08T00:00:00']\n",
    "va_lhf = va.LH.loc['2018-02-07T00:00:00':'2018-02-08T00:00:00']\n",
    "fig = plt.figure(figsize=(9, 6))\n",
    "ax = fig.add_axes((0.1, 0.1, 0.8, 0.8))\n",
    "ax.plot(time, armbe.sensible_heat_flux_qcecor.loc['2018-02-16T00:30:00':'2018-02-16T23:30:00'], color='red', label='ECOR, sensible')\n",
    "ax.plot(time, armbe.latent_heat_flux_qcecor.loc['2018-02-16T00:30:00':'2018-02-16T23:30:00'], color='blue', label='ECOR, latent')\n",
    "ax.plot(time_era5, -era5_shf, color='red', linestyle='none', marker='+', label='ERA5, sensible')\n",
    "ax.plot(time_era5, -era5_lhf, color='blue', linestyle='none', marker='+', label='ERA5, latent')\n",
    "ax.plot(time_fnl, fnl_shf, color='red', linestyle='none', marker='*', label='FNL, sensible')\n",
    "ax.plot(time_fnl, fnl_lhf, color='blue', linestyle='none', marker='*', label='FNL, latent')\n",
    "ax.plot(time_merra2, merra2_shf, color='red', linestyle='none', marker='o', markersize=5, label='MERRA2, sensible')\n",
    "ax.plot(time_merra2, merra2_lhf, color='blue', linestyle='none', marker='o', markersize=5, label='MERRA2, latent')\n",
    "ax.plot(time_va, va_shf, color='red', linestyle='none', marker='^', markersize=10, label='VarAnal, sensible')\n",
    "ax.plot(time_va, va_lhf, color='blue', linestyle='none', marker='^', markersize=10, label='VarAnal, latent')\n",
    "plt.xlabel('Time (UTC)')\n",
    "plt.xlim(0, 24)\n",
    "plt.xticks((0, 6, 12, 18))\n",
    "plt.ylabel(r'Surface Fluxes (${\\rm W/m^2}$)')\n",
    "# plt.ylim(-100, 450)\n",
    "plt.title('2018-02-16')\n",
    "plt.legend(fontsize=12)\n",
    "plt.show()"
   ]
  }
 ],
 "metadata": {
  "kernelspec": {
   "display_name": "my38",
   "language": "python",
   "name": "python3"
  },
  "language_info": {
   "codemirror_mode": {
    "name": "ipython",
    "version": 3
   },
   "file_extension": ".py",
   "mimetype": "text/x-python",
   "name": "python",
   "nbconvert_exporter": "python",
   "pygments_lexer": "ipython3",
   "version": "3.8.16"
  },
  "vscode": {
   "interpreter": {
    "hash": "f221a11a495a978dd5d4b7a823919aa0330af40be8dfacc59b441db5f6460b82"
   }
  }
 },
 "nbformat": 4,
 "nbformat_minor": 2
}

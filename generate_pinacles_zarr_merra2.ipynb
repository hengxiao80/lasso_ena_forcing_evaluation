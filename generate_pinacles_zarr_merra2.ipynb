{
 "cells": [
  {
   "cell_type": "code",
   "execution_count": null,
   "metadata": {},
   "outputs": [],
   "source": [
    "import xarray as xr\n",
    "import numpy as np\n",
    "import zarr\n",
    "from datetime import datetime\n",
    "import metpy\n",
    "from metpy.constants import water_heat_vaporization, dry_air_gas_constant, earth_gravity\n",
    "from scipy.interpolate import interpn, NearestNDInterpolator"
   ]
  },
  {
   "cell_type": "code",
   "execution_count": null,
   "metadata": {},
   "outputs": [],
   "source": [
    "from matplotlib import pyplot as plt"
   ]
  },
  {
   "cell_type": "code",
   "execution_count": null,
   "metadata": {},
   "outputs": [],
   "source": [
    "ena_lat = 39.0916  # deg N\n",
    "ena_lon = -28.0257  # deg E\n",
    "lat1, lat2 = ena_lat-10.0, ena_lat+10.0\n",
    "lon1, lon2 = ena_lon-10.0, ena_lon+10.0\n",
    "print(lat1, lat2)\n",
    "print(lon1, lon2)"
   ]
  },
  {
   "cell_type": "code",
   "execution_count": null,
   "metadata": {},
   "outputs": [],
   "source": [
    "datestring = '2016-10-22'\n",
    "# datestring = '2018-11-21'\n",
    "casedate = np.datetime64(datestring)\n",
    "datem1 = (casedate - np.timedelta64(1, \"D\")).astype(object).strftime(\"%Y%m%d\")\n",
    "date0 = casedate.astype(object).strftime(\"%Y%m%d\")\n",
    "datep1 = (casedate + np.timedelta64(1, \"D\")).astype(object).strftime(\"%Y%m%d\")"
   ]
  },
  {
   "cell_type": "code",
   "execution_count": null,
   "metadata": {},
   "outputs": [],
   "source": [
    "# extract MERRA2 surface fluxes and large-scale forcings\n",
    "forc_dir = \"forcing\"\n",
    "atm = xr.open_mfdataset(\n",
    "    [\n",
    "        f\"{forc_dir}/merra2/data/MERRA2_400.inst3_3d_asm_Nv.{datem1}.nc4\",\n",
    "        f\"{forc_dir}/merra2/data/MERRA2_400.inst3_3d_asm_Nv.{date0}.nc4\",\n",
    "        f\"{forc_dir}/merra2/data/MERRA2_400.inst3_3d_asm_Nv.{datep1}.nc4\",\n",
    "    ]\n",
    ")\n",
    "sfc = xr.open_mfdataset(\n",
    "    [\n",
    "        f\"{forc_dir}/merra2/data/MERRA2_400.tavg1_2d_flx_Nx.{datem1}.nc4\",\n",
    "        f\"{forc_dir}/merra2/data/MERRA2_400.tavg1_2d_flx_Nx.{date0}.nc4\",\n",
    "        f\"{forc_dir}/merra2/data/MERRA2_400.tavg1_2d_flx_Nx.{datep1}.nc4\",\n",
    "    ]\n",
    ")\n",
    "sfc2 = xr.open_mfdataset(\n",
    "    [\n",
    "        f\"{forc_dir}/merra2/data/MERRA2_400.tavg1_2d_slv_Nx.{datem1}.nc4\",\n",
    "        f\"{forc_dir}/merra2/data/MERRA2_400.tavg1_2d_slv_Nx.{date0}.nc4\",\n",
    "        f\"{forc_dir}/merra2/data/MERRA2_400.tavg1_2d_slv_Nx.{datep1}.nc4\",\n",
    "    ]\n",
    ")"
   ]
  },
  {
   "cell_type": "code",
   "execution_count": null,
   "metadata": {},
   "outputs": [],
   "source": [
    "time = np.asarray(atm.time)"
   ]
  },
  {
   "cell_type": "code",
   "execution_count": null,
   "metadata": {},
   "outputs": [],
   "source": [
    "lon, lat = np.meshgrid(sfc.lon.loc[lon1:lon2].values, sfc.lat.loc[lat1:lat2].values)"
   ]
  },
  {
   "cell_type": "code",
   "execution_count": null,
   "metadata": {},
   "outputs": [],
   "source": [
    "t = atm.time[8]\n",
    "(atm.PHIS.loc[t,lat1:lat2,lon1:lon2]/9.8).plot()\n",
    "plt.show()\n"
   ]
  },
  {
   "cell_type": "code",
   "execution_count": null,
   "metadata": {},
   "outputs": [],
   "source": [
    "def extract_ml_merra2(d, lat1, lat2, lon1, lon2):\n",
    "\n",
    "    g = earth_gravity.magnitude\n",
    "    zs = d.PHIS.loc[:,lat1:lat2,lon1:lon2].values/g\n",
    "    z = d.H.loc[:,:,lat1:lat2,lon1:lon2].values - zs[:,np.newaxis,:,:]\n",
    "\n",
    "    return ( \n",
    "        zs,\n",
    "        d.PS.loc[:,lat1:lat2,lon1:lon2].values,\n",
    "        d.SLP.loc[:,lat1:lat2,lon1:lon2].values,\n",
    "        z,\n",
    "        d.PL.loc[:,:,lat1:lat2,lon1:lon2].values,\n",
    "        d.T.loc[:,:,lat1:lat2,lon1:lon2].values,\n",
    "        d.QV.loc[:,:,lat1:lat2,lon1:lon2].values,\n",
    "        d.U.loc[:,:,lat1:lat2,lon1:lon2].values,\n",
    "        d.V.loc[:,:,lat1:lat2,lon1:lon2].values,\n",
    "    )"
   ]
  },
  {
   "cell_type": "code",
   "execution_count": null,
   "metadata": {},
   "outputs": [],
   "source": [
    "zs, ps, slp, z, p, t, qv, u, v = extract_ml_merra2(atm, lat1, lat2, lon1, lon2)"
   ]
  },
  {
   "cell_type": "code",
   "execution_count": null,
   "metadata": {},
   "outputs": [],
   "source": [
    "t2m = sfc2.T2M.loc[:,lat1:lat2, lon1:lon2].interp(time=time, method='linear', kwargs={\"fill_value\": \"extrapolate\"})\n",
    "sfc2.T2M.loc[:,lat1:lat2, lon1:lon2].mean(axis=(1,2)).plot(label='original')\n",
    "t2m.mean(axis=(1,2)).plot(label='interpolated')\n",
    "plt.legend()\n",
    "plt.show()"
   ]
  },
  {
   "cell_type": "code",
   "execution_count": null,
   "metadata": {},
   "outputs": [],
   "source": [
    "def extract_sfc_merra2(d, atm_time, zs, lat1, lat2, lon1, lon2):\n",
    "\n",
    "    t2m = d.T2M.loc[:, lat1:lat2, lon1:lon2].interp(\n",
    "        time=atm_time, method=\"linear\", kwargs={\"fill_value\": \"extrapolate\"}\n",
    "    )\n",
    "    qv2m = d.QV2M.loc[:, lat1:lat2, lon1:lon2].interp(\n",
    "        time=atm_time, method=\"linear\", kwargs={\"fill_value\": \"extrapolate\"}\n",
    "    )\n",
    "    u10m = d.U10M.loc[:, lat1:lat2, lon1:lon2].interp(\n",
    "        time=atm_time, method=\"linear\", kwargs={\"fill_value\": \"extrapolate\"}\n",
    "    )\n",
    "    v10m = d.V10M.loc[:, lat1:lat2, lon1:lon2].interp(\n",
    "        time=atm_time, method=\"linear\", kwargs={\"fill_value\": \"extrapolate\"}\n",
    "    )\n",
    "    ts = d.TS.loc[:, lat1:lat2, lon1:lon2].interp(\n",
    "        time=atm_time, method=\"linear\", kwargs={\"fill_value\": \"extrapolate\"}\n",
    "    )\n",
    "    ts1 = ts.copy(deep=True)\n",
    "\n",
    "    \"\"\"\n",
    "    Supplying skin temp. from MERRA2 to PINACLES.\n",
    "    For pts with non-zero surface height, skin temp. interpolated\n",
    "    using NearestNDInterpolator\n",
    "    \"\"\"\n",
    "    lon, lat = t2m.lon.values, t2m.lat.values\n",
    "    lon2d, lat2d = np.meshgrid(lon, lat)\n",
    "    sst_in = ts.values\n",
    "    missing_y, missing_x = np.where(zs[0, :, :] > 0.0)\n",
    "    missing_pts = list(zip(lat[missing_y], lon[missing_x]))\n",
    "    print(missing_pts)\n",
    "    print(zs[0][missing_y, missing_x])\n",
    "    sst_out = np.empty_like(sst_in)\n",
    "    nt, ny, nx = sst_in.shape\n",
    "    for t in range(nt):\n",
    "        sst = sst_in[t, :, :]\n",
    "        sst_out[t, :, :] = sst\n",
    "        \"\"\"\n",
    "        I couldn't be sure from reading scipy documentation what the right order is\n",
    "        for the list of coordinates supplied to the interpolator. So I used lat/lon to make sure \n",
    "        the interpolation is done correctly (because nx and ny happen to be equal). \n",
    "        Maybe doc on the interpolator class has more info.\n",
    "        \"\"\"\n",
    "        interp = NearestNDInterpolator(\n",
    "            list(\n",
    "                zip(\n",
    "                    lat2d[np.where(zs[0, :, :] <= 0.0)].flatten(),\n",
    "                    lon2d[np.where(zs[0, :, :] <= 0.0)].flatten(),\n",
    "                )\n",
    "            ),\n",
    "            sst[np.where(zs[0, :, :] <= 0.0)].flatten(),\n",
    "        )\n",
    "        sst_out[t][missing_y, missing_x] = interp(missing_pts)\n",
    "    ts2 = ts1.copy(deep=True, data=sst_out)\n",
    "\n",
    "    return (\n",
    "        t2m.values,\n",
    "        qv2m.values,\n",
    "        u10m.values,\n",
    "        v10m.values,\n",
    "        sst_out,\n",
    "        ts1,\n",
    "        ts2,\n",
    "    )"
   ]
  },
  {
   "cell_type": "code",
   "execution_count": null,
   "metadata": {},
   "outputs": [],
   "source": [
    "t2m, qv2m, u10m, v10m, sst, ts1, ts2 = extract_sfc_merra2(sfc2, time, zs, lat1, lat2, lon1, lon2)"
   ]
  },
  {
   "cell_type": "code",
   "execution_count": null,
   "metadata": {},
   "outputs": [],
   "source": [
    "t = sfc.time[23]\n",
    "(sfc2.TS.loc[t, lat1:lat2, lon1:lon2] - sfc.TSH.loc[t, lat1:lat2, lon1:lon2]).plot()"
   ]
  },
  {
   "cell_type": "code",
   "execution_count": null,
   "metadata": {},
   "outputs": [],
   "source": [
    "(ts2[10,:,:] - ts1[10,:,:]).plot()\n",
    "plt.show()"
   ]
  },
  {
   "cell_type": "code",
   "execution_count": null,
   "metadata": {},
   "outputs": [],
   "source": [
    "ts1[1,:,:].plot()\n",
    "plt.show()"
   ]
  },
  {
   "cell_type": "code",
   "execution_count": null,
   "metadata": {},
   "outputs": [],
   "source": [
    "ts2[1,:,:].plot()\n",
    "plt.show()"
   ]
  },
  {
   "cell_type": "code",
   "execution_count": null,
   "metadata": {},
   "outputs": [],
   "source": [
    "out = zarr.open(f'pinacles_zarr/merra2_{datem1}-{datep1}.zarr', mode='w')\n",
    "\n",
    "out['time'] = time\n",
    "\n",
    "out['SST'] = sst[:,:,:]\n",
    "out['longitude_SST'] = lon\n",
    "out['latitude_SST'] = lat\n",
    "\n",
    "out['PSFC'] = ps[:,:,:]\n",
    "out['longitude_PSFC'] = lon\n",
    "out['latitude_PSFC'] = lat\n",
    "\n",
    "out['T2m'] = t2m[:,:,:]\n",
    "out['QV2m'] = qv2m[:,:,:]\n",
    "out['u10m'] = u10m[:,:,:]\n",
    "out['v10m'] = v10m[:,:,:]\n",
    "\n",
    "out['Height'] = z[:,::-1,:,:]\n",
    "out['longitude_Height'] = lon\n",
    "out['latitude_Height'] = lat\n",
    "\n",
    "out['T'] = t[:,::-1,:,:]\n",
    "out['longitude_T'] = lon\n",
    "out['latitude_T'] = lat\n",
    "\n",
    "out['QV'] = qv[:,::-1,:,:]\n",
    "out['longitude_QV'] = lon\n",
    "out['latitude_QV'] = lat\n",
    "\n",
    "out['P'] = p[:,::-1,:,:]\n",
    "out['longitude_P'] = lon\n",
    "out['latitude_P'] = lat\n",
    "\n",
    "out['U'] = u[:,::-1,:,:]\n",
    "out['longitude_U'] = lon\n",
    "out['latitude_U'] = lat\n",
    "\n",
    "out['V'] = v[:,::-1,:,:]\n",
    "out['longitude_V'] = lon\n",
    "out['latitude_V'] = lat"
   ]
  }
 ],
 "metadata": {
  "kernelspec": {
   "display_name": "my311",
   "language": "python",
   "name": "python3"
  },
  "language_info": {
   "codemirror_mode": {
    "name": "ipython",
    "version": 3
   },
   "file_extension": ".py",
   "mimetype": "text/x-python",
   "name": "python",
   "nbconvert_exporter": "python",
   "pygments_lexer": "ipython3",
   "version": "3.11.9"
  }
 },
 "nbformat": 4,
 "nbformat_minor": 2
}

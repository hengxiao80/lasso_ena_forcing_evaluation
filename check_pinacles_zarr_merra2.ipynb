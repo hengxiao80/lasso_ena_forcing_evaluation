{
 "cells": [
  {
   "cell_type": "raw",
   "metadata": {
    "vscode": {
     "languageId": "raw"
    }
   },
   "source": [
    "---\n",
    "execute:\n",
    "  echo: false\n",
    "  warning: false\n",
    "format:\n",
    "  revealjs:\n",
    "    embed-resources: true\n",
    "    mainfont: Latin Modern Roman\n",
    "    html-math-method: katex\n",
    "    css: katex_custom.css\n",
    "  pptx:\n",
    "    reference-doc: quarto_template_latin_modern.pptx\n",
    "---"
   ]
  },
  {
   "cell_type": "code",
   "execution_count": null,
   "metadata": {},
   "outputs": [],
   "source": [
    "# for plotting\n",
    "\n",
    "import matplotlib as mpl\n",
    "import matplotlib.pyplot as plt\n",
    "import seaborn as sns\n",
    "import colorcet as cc\n",
    "\n",
    "sns.set()\n",
    "sns.set_context('poster')\n",
    "sns.set_style('ticks')\n",
    "plt.rcParams['font.family'] = 'serif'\n",
    "plt.rcParams['font.serif'] = 'cmr10'\n",
    "plt.rcParams[\"mathtext.fontset\"] = 'cm'\n",
    "plt.rcParams[\"axes.formatter.use_mathtext\"] = True"
   ]
  },
  {
   "cell_type": "code",
   "execution_count": null,
   "metadata": {},
   "outputs": [],
   "source": [
    "import xarray as xr\n",
    "import numpy as np\n",
    "import zarr\n",
    "from datetime import datetime\n",
    "import metpy\n",
    "from metpy.constants import water_heat_vaporization, dry_air_gas_constant, earth_gravity\n",
    "from scipy.interpolate import interpn, NearestNDInterpolator"
   ]
  },
  {
   "cell_type": "code",
   "execution_count": null,
   "metadata": {},
   "outputs": [],
   "source": [
    "datestring = '2018-11-21'\n",
    "casedate = np.datetime64(datestring)\n",
    "datem1 = (casedate - np.timedelta64(1, \"D\")).astype(object).strftime(\"%Y%m%d\")\n",
    "date0 = casedate.astype(object).strftime(\"%Y%m%d\")\n",
    "datep1 = (casedate + np.timedelta64(1, \"D\")).astype(object).strftime(\"%Y%m%d\")"
   ]
  },
  {
   "cell_type": "code",
   "execution_count": null,
   "metadata": {},
   "outputs": [],
   "source": [
    "out = zarr.open(f'pinacles_zarr/merra2_{datem1}-{datep1}.zarr', mode='r')"
   ]
  },
  {
   "cell_type": "code",
   "execution_count": null,
   "metadata": {},
   "outputs": [],
   "source": [
    "out['latitude_P'][15:26, 0]"
   ]
  },
  {
   "cell_type": "code",
   "execution_count": null,
   "metadata": {},
   "outputs": [],
   "source": [
    "out['longitude_P'][0, 11:20]"
   ]
  },
  {
   "cell_type": "code",
   "execution_count": null,
   "metadata": {},
   "outputs": [],
   "source": [
    "z = out['Height']\n",
    "p = out['P']\n",
    "t = out['T']\n",
    "qv = out['QV']\n",
    "time = out['time']"
   ]
  },
  {
   "cell_type": "code",
   "execution_count": null,
   "metadata": {},
   "outputs": [],
   "source": [
    "ind_t = 8\n",
    "print(time[ind_t])\n",
    "fig = plt.figure(figsize=(6, 9))\n",
    "ax = fig.add_axes((0.1, 0.1, 0.8, 0.8))\n",
    "ax.plot(qv[ind_t,:,:,:].mean(axis=(1,2)), z[ind_t,:,:,:].mean(axis=(1,2))*1.0e-3, color='red')\n",
    "ind_t = 12\n",
    "ax.plot(qv[ind_t,:,:,:].mean(axis=(1,2)), z[ind_t,:,:,:].mean(axis=(1,2))*1.0e-3, color='blue')\n",
    "ax.set_ylim(0, 6)\n",
    "plt.show()"
   ]
  },
  {
   "cell_type": "code",
   "execution_count": null,
   "metadata": {},
   "outputs": [],
   "source": [
    "ind_t = 12 \n",
    "print(time[ind_t])\n",
    "fig = plt.figure(figsize=(6, 9))\n",
    "ax = fig.add_axes((0.1, 0.1, 0.8, 0.8))\n",
    "ax.plot(qv[ind_t,:,:,:].mean(axis=(1,2)), z[ind_t,:,:,:].mean(axis=(1,2))*1.0e-3, color='red')\n",
    "ax.set_ylim(0, 6)\n",
    "plt.show()"
   ]
  },
  {
   "cell_type": "code",
   "execution_count": null,
   "metadata": {},
   "outputs": [],
   "source": [
    "z[8,:,:,:].mean(axis=(1,2))"
   ]
  },
  {
   "cell_type": "code",
   "execution_count": null,
   "metadata": {},
   "outputs": [],
   "source": [
    "p[8,:,:,:].mean(axis=(1,2))"
   ]
  },
  {
   "cell_type": "code",
   "execution_count": null,
   "metadata": {},
   "outputs": [],
   "source": [
    "t[8,:,:,:].mean(axis=(1,2))"
   ]
  },
  {
   "cell_type": "code",
   "execution_count": null,
   "metadata": {},
   "outputs": [],
   "source": [
    "qv[8,:,:,:].mean(axis=(1,2))"
   ]
  }
 ],
 "metadata": {
  "kernelspec": {
   "display_name": "my311",
   "language": "python",
   "name": "python3"
  },
  "language_info": {
   "codemirror_mode": {
    "name": "ipython",
    "version": 3
   },
   "file_extension": ".py",
   "mimetype": "text/x-python",
   "name": "python",
   "nbconvert_exporter": "python",
   "pygments_lexer": "ipython3",
   "version": "3.11.9"
  }
 },
 "nbformat": 4,
 "nbformat_minor": 2
}

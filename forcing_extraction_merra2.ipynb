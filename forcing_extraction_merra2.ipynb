{
 "cells": [
  {
   "cell_type": "raw",
   "metadata": {},
   "source": [
    "---\n",
    "execute:\n",
    "  echo: false\n",
    "  warning: false\n",
    "format:\n",
    "  revealjs:\n",
    "    embed-resources: true\n",
    "    mainfont: Latin Modern Roman\n",
    "    html-math-method: katex\n",
    "    css: katex_custom.css\n",
    "  pptx:\n",
    "    reference-doc: quarto_template_latin_modern.pptx\n",
    "---"
   ]
  },
  {
   "cell_type": "code",
   "execution_count": null,
   "metadata": {},
   "outputs": [],
   "source": [
    "# for plotting\n",
    "\n",
    "import matplotlib as mpl\n",
    "import matplotlib.pyplot as plt\n",
    "import seaborn as sns\n",
    "import colorcet as cc\n",
    "\n",
    "sns.set()\n",
    "sns.set_context('poster')\n",
    "sns.set_style('ticks')\n",
    "plt.rcParams['font.family'] = 'serif'\n",
    "plt.rcParams['font.serif'] = 'cmr10'\n",
    "plt.rcParams[\"mathtext.fontset\"] = 'cm'\n",
    "plt.rcParams[\"axes.formatter.use_mathtext\"] = True"
   ]
  },
  {
   "cell_type": "code",
   "execution_count": null,
   "metadata": {},
   "outputs": [],
   "source": [
    "import numpy as np\n",
    "import xarray as xr\n",
    "import metpy\n",
    "from metpy.units import units"
   ]
  },
  {
   "cell_type": "code",
   "execution_count": null,
   "metadata": {},
   "outputs": [],
   "source": [
    "from importlib import reload\n",
    "import extract_forcing"
   ]
  },
  {
   "cell_type": "code",
   "execution_count": null,
   "metadata": {},
   "outputs": [],
   "source": [
    "reload(extract_forcing)\n",
    "from extract_forcing import *"
   ]
  },
  {
   "cell_type": "code",
   "execution_count": null,
   "metadata": {},
   "outputs": [],
   "source": [
    "h = 30. # actual surface elevation of ENA site in m\n",
    "lat = 39.0916 # deg N\n",
    "lon = -28.0257 # deg E\n",
    "forc_dir = '/ccsopen/home/h1x/scratch/ena_forcing_check/forcing'"
   ]
  },
  {
   "cell_type": "code",
   "execution_count": null,
   "metadata": {},
   "outputs": [],
   "source": [
    "time_merra2 = np.arange(0.5, 23.7, 1.0)\n",
    "merra2_l = xr.open_dataset(f'{forc_dir}/merra2/data/MERRA2_400.inst3_3d_asm_Nv.20180207.nc4')\n",
    "# merra2_l_ena = merra2_l.sel(lon=lon, lat=lat, method='nearest')\n",
    "merra2_sfc = xr.open_dataset(f'{forc_dir}/merra2/data/MERRA2_400.tavg1_2d_flx_Nx.20180207.nc4')\n",
    "merra2_sfc2 = xr.open_dataset(f'{forc_dir}/merra2/data/MERRA2_400.tavg1_2d_slv_Nx.20180207.nc4')\n",
    "merra2_sfc0 = xr.open_dataset(f'{forc_dir}/merra2/data/MERRA2_101.const_2d_asm_Nx.00000000.nc4')"
   ]
  },
  {
   "cell_type": "code",
   "execution_count": null,
   "metadata": {},
   "outputs": [],
   "source": [
    "# t1 = np.datetime64('2018-02-07T00:00:00')\n",
    "# t2 = np.datetime64('2018-02-08T00:00:00')\n",
    "t1 = '2018-02-07T00:00:00'\n",
    "t2 = '2018-02-08T00:00:00'\n",
    "dx = 0.25\n",
    "toy, sst, shf, lhf = extract_sfc_fluxes_merra2(merra2_sfc, merra2_sfc2, t1, t2, lat, lon, dx)"
   ]
  },
  {
   "cell_type": "code",
   "execution_count": null,
   "metadata": {},
   "outputs": [],
   "source": [
    "sst"
   ]
  },
  {
   "cell_type": "code",
   "execution_count": null,
   "metadata": {},
   "outputs": [],
   "source": [
    "frac_land = merra2_sfc0.FRLAND.loc[:, lat-dx:lat+dx, lon-dx:lon+dx]"
   ]
  },
  {
   "cell_type": "code",
   "execution_count": null,
   "metadata": {},
   "outputs": [],
   "source": [
    "frac_land"
   ]
  },
  {
   "cell_type": "code",
   "execution_count": null,
   "metadata": {},
   "outputs": [],
   "source": [
    "# z.loc[t1:t2,:,lat+dx:lat-dx, lon+360-dx:lon+360+dx],\n",
    "# p.loc[t1:t2,:,lat+dx:lat-dx, lon+360-dx:lon+360+dx],\n",
    "# d.w.loc[t1:t2,:,lat+dx:lat-dx, lon+360-dx:lon+360+dx],\n",
    "# d.u.loc[t1:t2,:,lat+dx:lat-dx, lon+360-dx:lon+360+dx],\n",
    "# d.v.loc[t1:t2,:,lat+dx:lat-dx, lon+360-dx:lon+360+dx],\n",
    "# ta.loc[t1:t2,:,lat+dx:lat-dx, lon+360-dx:lon+360+dx],\n",
    "# ma.loc[t1:t2,:,lat+dx:lat-dx, lon+360-dx:lon+360+dx],\n",
    "# ug.loc[t1:t2,:,lat+dx:lat-dx, lon+360-dx:lon+360+dx],\n",
    "# vg.loc[t1:t2,:,lat+dx:lat-dx, lon+360-dx:lon+360+dx],\n",
    "zs, z, p, w, u, v, ta, ma, ug, vg = extract_forcing_merra2(merra2_l, t1, t2, lat, lon, dx)"
   ]
  },
  {
   "cell_type": "code",
   "execution_count": null,
   "metadata": {},
   "outputs": [],
   "source": [
    "zs[0,0,0]"
   ]
  },
  {
   "cell_type": "code",
   "execution_count": null,
   "metadata": {},
   "outputs": [],
   "source": [
    "dz = 25. # m\n",
    "zout = np.arange(dz*0.5, 5000.+ dz*0.1, dz)\n",
    "wi, ui, vi, tai, mai, ugi, vgi = interpolate_forcing_merra2(zout, z, w, u, v, ta, ma, ug, vg, zs)"
   ]
  },
  {
   "cell_type": "code",
   "execution_count": null,
   "metadata": {},
   "outputs": [],
   "source": [
    "tstamp = '2018-02-07T12:00:00'\n",
    "zp = z.sel(time=tstamp, longitude=lon+360., latitude=lat, method='nearest')\n",
    "up = u.sel(time=tstamp, longitude=lon+360., latitude=lat, method='nearest')\n",
    "vp = v.sel(time=tstamp, longitude=lon+360., latitude=lat, method='nearest')\n",
    "ugp = ug.sel(time=tstamp, longitude=lon+360., latitude=lat, method='nearest')\n",
    "vgp = vg.sel(time=tstamp, longitude=lon+360., latitude=lat, method='nearest')"
   ]
  },
  {
   "cell_type": "code",
   "execution_count": null,
   "metadata": {},
   "outputs": [],
   "source": [
    "fig = plt.figure(figsize=(12, 9))\n",
    "ax1 = fig.add_axes((0.05, 0.1, 0.4, 0.8))\n",
    "ax2 = fig.add_axes((0.5, 0.1, 0.4, 0.8))\n",
    "zt = 5\n",
    "lim = zp < zt*1.0e3*units.meter\n",
    "zlim = np.compress(lim, zp)\n",
    "upp = np.compress(lim, up)\n",
    "vpp = np.compress(lim, vp)\n",
    "ugpp = np.compress(lim, ugp)\n",
    "vgpp = np.compress(lim, vgp)\n",
    "ax1.plot(upp, zlim*1.0e-3, color='black', label='u')\n",
    "ax1.plot(ugpp, zlim*1.0e-3, color='blue', label='ug')\n",
    "ax2.plot(vpp, zlim*1.0e-3, color='black', label='v')\n",
    "ax2.plot(vgpp, zlim*1.0e-3, color='blue', label='vg')\n",
    "# ax2.plot(np.sqrt(upp.values**2+vpp.values**2), zlim*1.0e-3, color='black', label='v')\n",
    "# ax2.plot(np.sqrt(ugpp.values**2+vgpp.values**2), zlim*1.0e-3, color='blue', label='vg')\n",
    "ax1.set_ylim(0, zt)\n",
    "ax1.set_ylabel('Altitude (km)')\n",
    "ax1.set_xlabel(r' $u$ (m/s)')\n",
    "ax1.set_title(tstamp)\n",
    "ax1.legend(fontsize=12)\n",
    "ax2.set_ylim(0, zt)\n",
    "ax2.set_ylabel('')\n",
    "ax2.set_xlabel(r' $v$ (m/s)')\n",
    "ax2.legend(fontsize=12)\n",
    "ax2.set_title(tstamp)\n",
    "plt.show()"
   ]
  }
 ],
 "metadata": {
  "kernelspec": {
   "display_name": "base",
   "language": "python",
   "name": "python3"
  },
  "language_info": {
   "codemirror_mode": {
    "name": "ipython",
    "version": 3
   },
   "file_extension": ".py",
   "mimetype": "text/x-python",
   "name": "python",
   "nbconvert_exporter": "python",
   "pygments_lexer": "ipython3",
   "version": "3.8.16"
  },
  "vscode": {
   "interpreter": {
    "hash": "f221a11a495a978dd5d4b7a823919aa0330af40be8dfacc59b441db5f6460b82"
   }
  }
 },
 "nbformat": 4,
 "nbformat_minor": 2
}

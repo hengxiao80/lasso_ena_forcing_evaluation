{
 "cells": [
  {
   "cell_type": "code",
   "execution_count": null,
   "metadata": {},
   "outputs": [],
   "source": [
    "import xarray as xr\n",
    "import numpy as np\n",
    "import zarr\n",
    "from datetime import datetime\n",
    "import metpy\n",
    "from metpy.constants import water_heat_vaporization, dry_air_gas_constant, earth_gravity\n",
    "from scipy.interpolate import interpn, NearestNDInterpolator"
   ]
  },
  {
   "cell_type": "code",
   "execution_count": null,
   "metadata": {},
   "outputs": [],
   "source": [
    "from matplotlib import pyplot as plt\n",
    "import colorcet as cc"
   ]
  },
  {
   "cell_type": "code",
   "execution_count": null,
   "metadata": {},
   "outputs": [],
   "source": [
    "# datestring = '2016-10-22'\n",
    "datestring = '2018-11-21'\n",
    "casedate = np.datetime64(datestring)\n",
    "datem1 = (casedate - np.timedelta64(1, \"D\")).astype(object).strftime(\"%Y%m%d\")\n",
    "date0 = casedate.astype(object).strftime(\"%Y%m%d\")\n",
    "datep1 = (casedate + np.timedelta64(1, \"D\")).astype(object).strftime(\"%Y%m%d\")"
   ]
  },
  {
   "cell_type": "code",
   "execution_count": null,
   "metadata": {},
   "outputs": [],
   "source": [
    "atm = xr.open_dataset(f'forcing/era5/data/ERA5-{datem1}-{datep1}-ml.nc')\n",
    "sfc = xr.open_dataset(f'forcing/era5/data/ERA5-{datem1}-{datep1}-sfc.nc')"
   ]
  },
  {
   "cell_type": "code",
   "execution_count": null,
   "metadata": {},
   "outputs": [],
   "source": [
    "if all(sfc.time[i] < sfc.time[i+1] for i in range(len(sfc.time) - 1)):\n",
    "    print('sfc data all sorted!')\n",
    "if all(atm.time[i] < atm.time[i+1] for i in range(len(atm.time) - 1)):\n",
    "    print('atm data all sorted!')"
   ]
  },
  {
   "cell_type": "code",
   "execution_count": null,
   "metadata": {},
   "outputs": [],
   "source": [
    "time = np.asarray(atm.time)"
   ]
  },
  {
   "cell_type": "code",
   "execution_count": null,
   "metadata": {},
   "outputs": [],
   "source": [
    "print(time)"
   ]
  },
  {
   "cell_type": "code",
   "execution_count": null,
   "metadata": {},
   "outputs": [],
   "source": [
    "lon, lat = np.meshgrid(sfc.longitude.values, sfc.latitude.values[::-1])"
   ]
  },
  {
   "cell_type": "code",
   "execution_count": null,
   "metadata": {},
   "outputs": [],
   "source": [
    "def extract_ml_era5(d):\n",
    "\n",
    "    \"\"\"\n",
    "    The calculation of pressure and geopotential height on model levels follows\n",
    "    https://confluence.ecmwf.int/display/CKB/ERA5%3A+compute+pressure+and+geopotential+on+model+levels%2C+geopotential+height+and+geometric+height\n",
    "    \"\"\"\n",
    "\n",
    "    rd = dry_air_gas_constant\n",
    "    g = earth_gravity\n",
    "    ab = np.genfromtxt(\n",
    "        \"era5_table.csv\", delimiter=\",\", skip_header=1, missing_values=\"-\"\n",
    "    )\n",
    "    a = ab[:, 1]\n",
    "    b = ab[:, 2]\n",
    "\n",
    "    t = d.t\n",
    "    qv = d.q\n",
    "    \"\"\"\n",
    "    Note here that the second index (1) here means getting the first level data,\n",
    "    not the actual array index. Also, only first level data is valid\n",
    "    \"\"\"\n",
    "    lnsp = d.lnsp.loc[:, 1, :, :]\n",
    "    \"\"\"\n",
    "    The surface geopotential looks so noisy \n",
    "    because of the spectral decomposition/representation used in IFS\n",
    "    \"\"\"\n",
    "    sgp = d.z.loc[:, 1, :, :]\n",
    "    zs = sgp.metpy.quantify()/earth_gravity\n",
    "\n",
    "    rv = metpy.calc.mixing_ratio_from_specific_humidity(qv)\n",
    "\n",
    "    nt, nz, ny, nx = t.shape\n",
    "\n",
    "    pi = np.zeros((nt, nz + 1, ny, nx))\n",
    "    ps = np.exp(lnsp)\n",
    "    pi[:] = ps.values[:, np.newaxis, :, :]\n",
    "    pi = (\n",
    "        a[np.newaxis, :, np.newaxis, np.newaxis]\n",
    "        + pi * b[np.newaxis, :, np.newaxis, np.newaxis]\n",
    "    )\n",
    "    p = (pi[:, 1:, :, :] + pi[:, :-1, :, :]) * 0.5\n",
    "    pi[:, 0, :, :] = 0.1\n",
    "    dpi = pi[:, 1:, :, :] - pi[:, :-1, :, :]\n",
    "    dlnpi = np.log(pi[:, 1:, :, :] / pi[:, :-1, :, :])\n",
    "\n",
    "    \"\"\"\n",
    "    I have not got time to derive alpha, this is just what is given in the ERA5 documentation\n",
    "    \"\"\"\n",
    "    alpha = 1.0 - dlnpi * pi[:, :-1, :, :] / dpi\n",
    "    alpha[:, 0, :, :] = np.log(2.0)\n",
    "\n",
    "    tm = t.metpy.quantify() * (1.0 + 0.609133 * rv.metpy.quantify())\n",
    "    dphi = rd.magnitude * tm.values * dlnpi\n",
    "    phi = np.zeros((nt, nz + 1, ny, nx))\n",
    "    phi[:, :-1, :, :] = np.flip(np.cumsum(dphi[:, ::-1, :, :], axis=1), 1)\n",
    "    phi[:] = phi[:] + sgp.values[:, np.newaxis, :, :]\n",
    "    ph = phi[:, 1:, :, :] + rd.magnitude * tm.values * alpha\n",
    "\n",
    "    ph = t.copy(deep=True, data=ph)\n",
    "    ph.attrs[\"units\"] = \"m**2/s**2\"\n",
    "    del ph.attrs[\"long_name\"]\n",
    "    del ph.attrs[\"standard_name\"]\n",
    "    ph.metpy.quantify()\n",
    "\n",
    "    p = t.copy(deep=True, data=p)\n",
    "    p.attrs[\"units\"] = \"Pa\"\n",
    "    del p.attrs[\"long_name\"]\n",
    "    del p.attrs[\"standard_name\"]\n",
    "    p.metpy.quantify()\n",
    "\n",
    "    z = ph.metpy.quantify() / g\n",
    "    z = t.copy(deep=True, data=z)\n",
    "    z.attrs[\"units\"] = \"m\"\n",
    "    del z.attrs[\"long_name\"]\n",
    "    del z.attrs[\"standard_name\"]\n",
    "\n",
    "    return (\n",
    "        z.values - zs.values[:,np.newaxis,:,:],\n",
    "        p.values,\n",
    "        d.t.values,\n",
    "        d.q.values,\n",
    "        d.u.values,\n",
    "        d.v.values,\n",
    "    )"
   ]
  },
  {
   "cell_type": "code",
   "execution_count": null,
   "metadata": {},
   "outputs": [],
   "source": [
    "def extract_sfc_era5(d):\n",
    "\n",
    "    \"\"\"\n",
    "    Supplying surface pressure to PINACLES for now.\n",
    "    But sea-level pressure is smoother and may be better for our purpose.\n",
    "    Especially given that pressure on the vertical levels are only used for the domain mean profiles\n",
    "    in setting up reference state and in radiation.\n",
    "    We always want to supply heights in terms of heights above the surface\n",
    "    \"\"\"\n",
    "    ps = d.sp\n",
    "    slp = d.msl\n",
    "    t2m = d.t2m\n",
    "    d2m = d.d2m\n",
    "    zs = d.z.metpy.quantify() / earth_gravity\n",
    "    qv2m = metpy.calc.specific_humidity_from_dewpoint(\n",
    "        ps.metpy.quantify(), d2m.metpy.quantify()\n",
    "    )\n",
    "    u10m = d.u10\n",
    "    v10m = d.v10\n",
    "    \"\"\"\n",
    "    Supplying SST (instead of skin temperature) from ERA5 to PINACLES.\n",
    "    Need to interpolate to fill missing values (NaNs).\n",
    "    \"\"\"\n",
    "    lon, lat = d.longitude.values, d.latitude.values\n",
    "    lon2d, lat2d = np.meshgrid(lon, lat)\n",
    "    sst_in = d.sst.values\n",
    "    missing_y, missing_x = np.where(sst_in[0, :, :] != sst_in[0, :, :])\n",
    "    missing_pts = list(zip(lat[missing_y], lon[missing_x]))\n",
    "    print(missing_pts)\n",
    "    sst_out = np.empty_like(sst_in)\n",
    "    nt, ny, nx = sst_in.shape\n",
    "    for t in range(nt):\n",
    "        sst = sst_in[t, :, :]\n",
    "        sst_out[t, :, :] = sst\n",
    "        \"\"\"\n",
    "        I couldn't be sure from reading scipy documentation what the right order is\n",
    "        for the list of coordinates supplied to the interpolator. So I used lat/lon to make sure \n",
    "        the interpolation is done correctly (because nx and ny happen to be equal). \n",
    "        Maybe doc on the interpolator class has more info.\n",
    "        \"\"\"\n",
    "        interp = NearestNDInterpolator(\n",
    "            list(zip(lat2d[~np.isnan(sst)].flatten(), lon2d[~np.isnan(sst)].flatten())),\n",
    "            sst[~np.isnan(sst)].flatten(),\n",
    "        )\n",
    "        sst_out[t][missing_y, missing_x] = interp(missing_pts)\n",
    "\n",
    "    return (\n",
    "        zs.values,\n",
    "        ps.values,\n",
    "        slp.values,\n",
    "        t2m.values,\n",
    "        qv2m.values,\n",
    "        u10m.values,\n",
    "        v10m.values,\n",
    "        sst_out,\n",
    "    )"
   ]
  },
  {
   "cell_type": "code",
   "execution_count": null,
   "metadata": {},
   "outputs": [],
   "source": [
    "z, p, t, qv, u, v = extract_ml_era5(atm)"
   ]
  },
  {
   "cell_type": "code",
   "execution_count": null,
   "metadata": {},
   "outputs": [],
   "source": [
    "zs, ps, slp, t2m, qv2m, u10m, v10m, sst = extract_sfc_era5(sfc)"
   ]
  },
  {
   "cell_type": "code",
   "execution_count": null,
   "metadata": {},
   "outputs": [],
   "source": [
    "sfc"
   ]
  },
  {
   "cell_type": "code",
   "execution_count": null,
   "metadata": {},
   "outputs": [],
   "source": [
    "sfc.sp[1,:,:].plot(levels=np.arange(100000, 102251, 250))\n",
    "plt.show()"
   ]
  },
  {
   "cell_type": "code",
   "execution_count": null,
   "metadata": {},
   "outputs": [],
   "source": [
    "sfc.msl[1,:,:].plot(levels=np.arange(100000, 102251, 250))\n",
    "plt.show()"
   ]
  },
  {
   "cell_type": "code",
   "execution_count": null,
   "metadata": {},
   "outputs": [],
   "source": [
    "sfc.skt[1,:,:].plot()\n",
    "plt.show()"
   ]
  },
  {
   "cell_type": "code",
   "execution_count": null,
   "metadata": {},
   "outputs": [],
   "source": [
    "(sfc.sst[1,:,:] - sfc.skt[1,:,:]).plot(vmin=-0.5, vmax=0.5, extend='neither', cmap=cc.cm.coolwarm)\n",
    "plt.show()"
   ]
  },
  {
   "cell_type": "code",
   "execution_count": null,
   "metadata": {},
   "outputs": [],
   "source": [
    "sst_out = sfc.sst.copy(deep=True, data=sst)\n",
    "sst_out[1,:,:].plot()\n",
    "plt.show()"
   ]
  },
  {
   "cell_type": "code",
   "execution_count": null,
   "metadata": {},
   "outputs": [],
   "source": [
    "(sst_out[1,:,:] -sfc.sst[1,:,:]).plot()\n",
    "plt.show()"
   ]
  },
  {
   "cell_type": "code",
   "execution_count": null,
   "metadata": {},
   "outputs": [],
   "source": [
    "(sfc.z[1,:,:].metpy.quantify()/earth_gravity).plot(levels=np.arange(-10, 11, 2))\n",
    "plt.show()"
   ]
  },
  {
   "cell_type": "code",
   "execution_count": null,
   "metadata": {},
   "outputs": [],
   "source": [
    "z.shape"
   ]
  },
  {
   "cell_type": "code",
   "execution_count": null,
   "metadata": {},
   "outputs": [],
   "source": [
    "out = zarr.open(f'pinacles_zarr/era5_{datem1}-{datep1}.zarr', mode='w')\n",
    "\n",
    "out['time'] = time\n",
    "\n",
    "out['SST'] = sst[:,::-1,:]\n",
    "out['longitude_SST'] = lon\n",
    "out['latitude_SST'] = lat\n",
    "\n",
    "out['PSFC'] = ps[:,::-1,:]\n",
    "out['longitude_PSFC'] = lon\n",
    "out['latitude_PSFC'] = lat\n",
    "\n",
    "out['T2m'] = t2m[:,::-1,:]\n",
    "out['QV2m'] = qv2m[:,::-1,:]\n",
    "out['u10m'] = u10m[:,::-1,:]\n",
    "out['v10m'] = v10m[:,::-1,:]\n",
    "\n",
    "out['Height'] = z[:,::-1,::-1,:]\n",
    "out['longitude_Height'] = lon\n",
    "out['latitude_Height'] = lat\n",
    "\n",
    "out['T'] = t[:,::-1,::-1,:]\n",
    "out['longitude_T'] = lon\n",
    "out['latitude_T'] = lat\n",
    "\n",
    "out['QV'] = qv[:,::-1,::-1,:]\n",
    "out['longitude_QV'] = lon\n",
    "out['latitude_QV'] = lat\n",
    "\n",
    "out['P'] = p[:,::-1,::-1,:]\n",
    "out['longitude_P'] = lon\n",
    "out['latitude_P'] = lat\n",
    "\n",
    "out['U'] = u[:,::-1,::-1,:]\n",
    "out['longitude_U'] = lon\n",
    "out['latitude_U'] = lat\n",
    "\n",
    "out['V'] = v[:,::-1,::-1,:]\n",
    "out['longitude_V'] = lon\n",
    "out['latitude_V'] = lat"
   ]
  }
 ],
 "metadata": {
  "kernelspec": {
   "display_name": "my311",
   "language": "python",
   "name": "python3"
  },
  "language_info": {
   "codemirror_mode": {
    "name": "ipython",
    "version": 3
   },
   "file_extension": ".py",
   "mimetype": "text/x-python",
   "name": "python",
   "nbconvert_exporter": "python",
   "pygments_lexer": "ipython3",
   "version": "3.11.9"
  }
 },
 "nbformat": 4,
 "nbformat_minor": 2
}
